{
  "nbformat": 4,
  "nbformat_minor": 0,
  "metadata": {
    "colab": {
      "name": "Implementation Of Fuzzy Algorithm On Scholarship-Recipients Selector",
      "provenance": [],
      "collapsed_sections": [],
      "toc_visible": true
    },
    "kernelspec": {
      "display_name": "Python 3",
      "name": "python3"
    }
  },
  "cells": [
    {
      "cell_type": "markdown",
      "metadata": {
        "id": "fS3bhOnbn-ME"
      },
      "source": [
        "# IMPORTED LIBRARIES"
      ]
    },
    {
      "cell_type": "code",
      "metadata": {
        "id": "Y21MgHukG-4V"
      },
      "source": [
        "import numpy as np\n",
        "import pandas as pd\n",
        "import io\n",
        "import matplotlib.pyplot as plt\n",
        "from google.colab import files"
      ],
      "execution_count": null,
      "outputs": []
    },
    {
      "cell_type": "markdown",
      "metadata": {
        "id": "sfKOsngooSrB"
      },
      "source": [
        "# CONSTANTS AND GLOBAL VARIABLES"
      ]
    },
    {
      "cell_type": "code",
      "metadata": {
        "id": "k4kZkQqYo1JJ"
      },
      "source": [
        "InputArray = []\n",
        "OutputArray = []"
      ],
      "execution_count": null,
      "outputs": []
    },
    {
      "cell_type": "markdown",
      "metadata": {
        "id": "ywQ2waBCoGBa"
      },
      "source": [
        "# IMPORTED/READ CRISP DATA"
      ]
    },
    {
      "cell_type": "code",
      "metadata": {
        "id": "LHcbZzzyoP0M"
      },
      "source": [
        "#READ CRISP INPUT\n",
        "crispinput = files.upload()\n",
        "df = pd.read_excel(io.BytesIO(crispinput['Mahasiswa.xls']))\n",
        "\n",
        "#DEFINE IDS COLUMN AS AN ARRAY LIST\n",
        "id = df['Id'].values.tolist()\n",
        "\n",
        "#DEFINE EARNINGS COLUMN AS AN ARRAY LIST\n",
        "earning = df['Penghasilan'].values.tolist()\n",
        "\n",
        "#DEFINE SPENDINGS COLUMN AS AN ARRAY LIST\n",
        "spending = df['Pengeluaran'].values.tolist()"
      ],
      "execution_count": null,
      "outputs": []
    },
    {
      "cell_type": "markdown",
      "metadata": {
        "id": "tVE_vHTroQiV"
      },
      "source": [
        "# FUZZIFICATION : MEMBERSHIP FUNCTION FOR EARNINGS"
      ]
    },
    {
      "cell_type": "code",
      "metadata": {
        "id": "J9JSyPg3zm0J"
      },
      "source": [
        "#FUZZIFY THE LOW EARNINGS\n",
        "def LowEarning(x):\n",
        "  if x <= 4:\n",
        "    return 1\n",
        "  elif x >= 6:\n",
        "    return 0\n",
        "  else:\n",
        "    return (6-x)/(6-4)\n",
        "  \n",
        "#FUZZIFY THE MEDIUM EARNINGS\n",
        "def MediumEarning(x):\n",
        "  if 6 <= x <= 12:\n",
        "    return 1\n",
        "  elif 4 < x < 6:\n",
        "    return (x - 4)/(6 - 4)\n",
        "  elif 12 < x < 15:\n",
        "    return (15 - x)/(15 - 10)\n",
        "  else:\n",
        "    return 0\n",
        "\n",
        "#FUZZIFY THE HIGH EARNINGS\n",
        "def HighEarning(x):\n",
        "  if x >= 15:\n",
        "    return 1\n",
        "  elif x <= 12:\n",
        "    return 0\n",
        "  else:\n",
        "    return (x - 12)/(15 - 12)"
      ],
      "execution_count": null,
      "outputs": []
    },
    {
      "cell_type": "code",
      "metadata": {
        "id": "xSBz1L1Z4BO1"
      },
      "source": [
        "def Income(x):\n",
        "  Deficient = LowEarning(x)\n",
        "  Sufficient = MediumEarning(x)\n",
        "  Excessive = HighEarning(x)\n",
        "  return Deficient, Sufficient, Excessive"
      ],
      "execution_count": null,
      "outputs": []
    },
    {
      "cell_type": "markdown",
      "metadata": {
        "id": "a0t_nPFMq21d"
      },
      "source": [
        "# FUZZIFICATION : MEMBERSHIP FUNCTION FOR SPENDINGS"
      ]
    },
    {
      "cell_type": "code",
      "metadata": {
        "id": "LvMhuJYfb6O9"
      },
      "source": [
        "#FUZZIFY THE LOW SPENDINGS\n",
        "def LowSpending(x):\n",
        "  if x <= 4:\n",
        "    return 1\n",
        "  elif x >= 6:\n",
        "    return 0\n",
        "  else:\n",
        "    return (6-x)/(6-4)\n",
        "\n",
        "#FUZZIFY THE MEDIUM SPENDINGS\n",
        "def MediumSpending(x):\n",
        "  if 6 <= x <= 10:\n",
        "    return 1\n",
        "  elif 4 < x < 6:\n",
        "    return (x - 4)/(6 - 4)\n",
        "  elif 10 < x < 12:\n",
        "    return (12 - x)/(12 - 10)\n",
        "  else:\n",
        "    return 0\n",
        "\n",
        "#FUZZIFY THE HIGH SPENDINGS\n",
        "def HighSpending(x):\n",
        "  if x >= 12:\n",
        "    return 1\n",
        "  elif x <= 10:\n",
        "    return 0\n",
        "  else:\n",
        "    return (x - 10)/(12 - 10)"
      ],
      "execution_count": null,
      "outputs": []
    },
    {
      "cell_type": "code",
      "metadata": {
        "id": "c3Lk7j-Q3US1"
      },
      "source": [
        "def Expense(x):\n",
        "  Efficient = LowSpending(x)\n",
        "  Average = MediumSpending(x)\n",
        "  Lavish = HighSpending(x)\n",
        "  return Efficient, Average, Lavish"
      ],
      "execution_count": null,
      "outputs": []
    },
    {
      "cell_type": "markdown",
      "metadata": {
        "id": "Y5BN_3o0rE5m"
      },
      "source": [
        "# INFERENCE : SUGENO MODEL"
      ]
    },
    {
      "cell_type": "code",
      "metadata": {
        "id": "It5vYHRf-Md3"
      },
      "source": [
        "#Inferensi\n",
        "def Inference(Small,Medium,Big,Tight,Normal,Profuse):\n",
        "  FitnessSystem =[[min(Small,Tight),'High'],\n",
        "                    [min(Medium,Tight),'Low'],\n",
        "                    [min(Big,Tight),'Low'],\n",
        "                    [min(Small,Normal),'High'],\n",
        "                    [min(Medium,Normal),'High'],\n",
        "                    [min(Big,Normal),'Low'],\n",
        "                    [min(Small,Profuse),'High'],\n",
        "                    [min(Medium,Profuse),'High'],\n",
        "                    [min(Big,Profuse),'Low']]\n",
        "  Low = []\n",
        "  High = []\n",
        "\n",
        "  for i in range(len(FitnessSystem)):\n",
        "    if FitnessSystem[i][1] == 'High':\n",
        "     High.append(FitnessSystem[i][0])\n",
        "    elif FitnessSystem[i][1] == 'Low':\n",
        "      Low.append(FitnessSystem[i][0])\n",
        "  return max(High), max(Low)"
      ],
      "execution_count": null,
      "outputs": []
    },
    {
      "cell_type": "markdown",
      "metadata": {
        "id": "McOw3PtIrGih"
      },
      "source": [
        "# DEFUZZYFICATION : WEIGHTED AVERAGE"
      ]
    },
    {
      "cell_type": "code",
      "metadata": {
        "id": "-LEcHVu2exeH"
      },
      "source": [
        "def defuzzification(High,Low):\n",
        "  return ((High * 100) + (Low * 35)) / (High + Low)"
      ],
      "execution_count": null,
      "outputs": []
    },
    {
      "cell_type": "markdown",
      "metadata": {
        "id": "pnIDw-q1rdk0"
      },
      "source": [
        "# MAIN"
      ]
    },
    {
      "cell_type": "code",
      "metadata": {
        "id": "PmGqCrLK19eA"
      },
      "source": [
        "def main(earning, spending):\n",
        "  Small, Medium, Big = Income(earning[i])\n",
        "  Tight, Normal, Profuse = Expense(spending[i])\n",
        "  High, Low = Inference(Small,Medium,Big,Tight,Normal,Profuse)\n",
        "  n = defuzzification(High, Low)\n",
        "  InputArray.append([n, (i+1)])  \n",
        "  return InputArray"
      ],
      "execution_count": null,
      "outputs": []
    },
    {
      "cell_type": "code",
      "metadata": {
        "id": "WdO6KYyDPHB0"
      },
      "source": [
        "for i in range(100):\n",
        "  x = earning[i]\n",
        "  y = spending[i]\n",
        "  FinalArray = main(earning, spending)\n",
        "  FinalArray.sort(reverse = True)"
      ],
      "execution_count": null,
      "outputs": []
    },
    {
      "cell_type": "code",
      "metadata": {
        "id": "NIns3JX-FDVo"
      },
      "source": [
        "for i in range (0, 20):\n",
        "  OutputArray.append(FinalArray[i][1])\n",
        "  OutputArray.sort(reverse = True)"
      ],
      "execution_count": null,
      "outputs": []
    },
    {
      "cell_type": "code",
      "metadata": {
        "id": "lijg3tHO0ujp",
        "colab": {
          "base_uri": "https://localhost:8080/",
          "height": 17
        },
        "outputId": "df89e433-7441-4f83-9e9d-df8792e1883a"
      },
      "source": [
        "df = pd.DataFrame(OutputArray)\n",
        "with pd.ExcelWriter('Bantuan.xls', mode='w') as writer:\n",
        "  df.to_excel(writer, sheet_name='Bantuan', index=False,header=['Id'])\n",
        "files.download('Bantuan.xls')\n"
      ],
      "execution_count": null,
      "outputs": [
        {
          "output_type": "display_data",
          "data": {
            "application/javascript": [
              "\n",
              "    async function download(id, filename, size) {\n",
              "      if (!google.colab.kernel.accessAllowed) {\n",
              "        return;\n",
              "      }\n",
              "      const div = document.createElement('div');\n",
              "      const label = document.createElement('label');\n",
              "      label.textContent = `Downloading \"${filename}\": `;\n",
              "      div.appendChild(label);\n",
              "      const progress = document.createElement('progress');\n",
              "      progress.max = size;\n",
              "      div.appendChild(progress);\n",
              "      document.body.appendChild(div);\n",
              "\n",
              "      const buffers = [];\n",
              "      let downloaded = 0;\n",
              "\n",
              "      const channel = await google.colab.kernel.comms.open(id);\n",
              "      // Send a message to notify the kernel that we're ready.\n",
              "      channel.send({})\n",
              "\n",
              "      for await (const message of channel.messages) {\n",
              "        // Send a message to notify the kernel that we're ready.\n",
              "        channel.send({})\n",
              "        if (message.buffers) {\n",
              "          for (const buffer of message.buffers) {\n",
              "            buffers.push(buffer);\n",
              "            downloaded += buffer.byteLength;\n",
              "            progress.value = downloaded;\n",
              "          }\n",
              "        }\n",
              "      }\n",
              "      const blob = new Blob(buffers, {type: 'application/binary'});\n",
              "      const a = document.createElement('a');\n",
              "      a.href = window.URL.createObjectURL(blob);\n",
              "      a.download = filename;\n",
              "      div.appendChild(a);\n",
              "      a.click();\n",
              "      div.remove();\n",
              "    }\n",
              "  "
            ],
            "text/plain": [
              "<IPython.core.display.Javascript object>"
            ]
          },
          "metadata": {
            "tags": []
          }
        },
        {
          "output_type": "display_data",
          "data": {
            "application/javascript": [
              "download(\"download_f64cbe65-2952-453c-9008-23bb5ffa6494\", \"Bantuan.xls\", 5632)"
            ],
            "text/plain": [
              "<IPython.core.display.Javascript object>"
            ]
          },
          "metadata": {
            "tags": []
          }
        }
      ]
    }
  ]
}